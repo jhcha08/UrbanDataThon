{
 "cells": [
  {
   "cell_type": "markdown",
   "metadata": {},
   "source": [
    "# X-ray\n",
    "* 저희는 `torchxrayvision` 모델을 사용했습니다.\n",
    "* 코드를 실행시키기 위해, `torchxrayvision` repository를 clone 해와야 합니다."
   ]
  },
  {
   "cell_type": "code",
   "execution_count": 3,
   "metadata": {},
   "outputs": [
    {
     "name": "stdout",
     "output_type": "stream",
     "text": [
      "Cloning into 'torchxrayvision'...\n",
      "remote: Enumerating objects: 1470, done.\u001b[K\n",
      "remote: Counting objects: 100% (64/64), done.\u001b[K\n",
      "remote: Compressing objects: 100% (49/49), done.\u001b[K\n",
      "remote: Total 1470 (delta 27), reused 35 (delta 14), pack-reused 1406\u001b[K\n",
      "Receiving objects: 100% (1470/1470), 42.68 MiB | 17.50 MiB/s, done.\n",
      "Resolving deltas: 100% (861/861), done.\n"
     ]
    }
   ],
   "source": [
    "! git clone https://github.com/mlmed/torchxrayvision.git"
   ]
  },
  {
   "cell_type": "markdown",
   "metadata": {},
   "source": [
    "* 환경설정"
   ]
  },
  {
   "cell_type": "code",
   "execution_count": null,
   "metadata": {},
   "outputs": [],
   "source": [
    "! cd torchxrayvision && \\\n",
    "pip install -r requirements.txt && \\\n",
    "python setup.py install"
   ]
  },
  {
   "cell_type": "markdown",
   "metadata": {},
   "source": [
    "* torchxrayvision을 사용하기 위해, 본 ipynb 파일은 `torchxrayvision/scripts` 폴더 내에 위치해야 합니다. 파일 위치를 해당 위치로 이동시켜야 합니다.\n",
    "* 본 `Xray.ipynb`파일을 `torchxrayvision/scripts/Xray.ipynb`에 위치하게 해주세요.\n",
    "* 파일을 이동한 후, 아래 코드블록부터 시작해주세요."
   ]
  },
  {
   "cell_type": "code",
   "execution_count": 5,
   "metadata": {},
   "outputs": [],
   "source": [
    "import torch\n",
    "import torchxrayvision as xrv\n",
    "import skimage, torch, torchvision\n",
    "import numpy as np\n",
    "\n",
    "model = xrv.models.DenseNet(weights=\"densenet121-res224-all\")"
   ]
  },
  {
   "cell_type": "code",
   "execution_count": 3,
   "metadata": {},
   "outputs": [],
   "source": [
    "NORMAL = 0\n",
    "ABNORMAL = 1\n",
    "DISEASES = ['Effusion','Pneumonia','Pneumothorax']\n",
    "\n",
    "def inference(img_path, THRESHOLD):\n",
    "    global model\n",
    "    img = skimage.io.imread(img_path)\n",
    "    img = xrv.datasets.normalize(img, 255) # convert 8-bit image to [-1024, 1024] range\n",
    "    if len(img.shape) == 2:\n",
    "        img = np.stack((img,)*3, axis=-1)\n",
    "    img = img.mean(2)[None, ...] # Make single color channel\n",
    "    \n",
    "    transform = torchvision.transforms.Compose([xrv.datasets.XRayCenterCrop(),xrv.datasets.XRayResizer(224)])\n",
    "    \n",
    "    img = transform(img)\n",
    "    img = torch.from_numpy(img)\n",
    "    img = img.cuda()\n",
    "    \n",
    "    outputs = model(img[None,...]) # or model.features(img[None,...]) \n",
    "    outputs = dict(zip(model.pathologies,outputs[0].cpu().detach().numpy()))\n",
    "    \n",
    "    predict = NORMAL\n",
    "    for disease in DISEASES:\n",
    "        if outputs[disease] > THRESHOLD:\n",
    "            predict = ABNORMAL\n",
    "    return predict\n",
    "    "
   ]
  },
  {
   "cell_type": "markdown",
   "metadata": {},
   "source": [
    "* 모델 및 inference 코드"
   ]
  },
  {
   "cell_type": "code",
   "execution_count": null,
   "metadata": {},
   "outputs": [],
   "source": [
    "model = xrv.models.DenseNet(weights=\"densenet121-res224-all\")\n",
    "\n",
    "def inference(img_path, THRESHOLD):\n",
    "    global model\n",
    "    img = skimage.io.imread(img_path)\n",
    "    img = xrv.datasets.normalize(img, 255) # convert 8-bit image to [-1024, 1024] range\n",
    "    if len(img.shape) == 2:\n",
    "        img = np.stack((img,)*3, axis=-1)\n",
    "    img = img.mean(2)[None, ...] # Make single color channel\n",
    "    \n",
    "    transform = torchvision.transforms.Compose([xrv.datasets.XRayCenterCrop(),xrv.datasets.XRayResizer(224)])\n",
    "    \n",
    "    img = transform(img)\n",
    "    img = torch.from_numpy(img)\n",
    "    img = img.cuda()\n",
    "    \n",
    "    outputs = model(img[None,...]) # or model.features(img[None,...]) \n",
    "    outputs = dict(zip(model.pathologies,outputs[0].cpu().detach().numpy()))\n",
    "    \n",
    "    predict = NORMAL\n",
    "    for disease in DISEASES:\n",
    "        if outputs[disease] > THRESHOLD:\n",
    "            predict = ABNORMAL\n",
    "    return predict\n",
    "    \n"
   ]
  },
  {
   "cell_type": "code",
   "execution_count": null,
   "metadata": {},
   "outputs": [],
   "source": [
    "submission = pd.read_csv('/path/to/1000_sample_submission.csv')\n",
    "submission"
   ]
  },
  {
   "cell_type": "code",
   "execution_count": null,
   "metadata": {},
   "outputs": [],
   "source": [
    "model.cuda()\n",
    "model.eval()\n",
    "\n",
    "\n",
    "test_list = sorted(os.listdir('/path/to/XrayTestFolder'))\n",
    "\n",
    "with torch.inference_mode():\n",
    "    for img_path in tqdm.tqdm(test_list):\n",
    "        predicted = inference(os.path.join('/home/hackathon/jupyter/storage/datasets/ChestPA/ChestPA_Test/test', img_path),THRESHOLD=0.51)\n",
    "        submission.loc[submission['filename']==img_path,'result'] = predicted\n",
    "\n",
    "submission.to_csv('./result.csv',index=False)"
   ]
  }
 ],
 "metadata": {
  "kernelspec": {
   "display_name": "Python 3.8.13 ('fcn_resnet50_original_model')",
   "language": "python",
   "name": "python3"
  },
  "language_info": {
   "codemirror_mode": {
    "name": "ipython",
    "version": 3
   },
   "file_extension": ".py",
   "mimetype": "text/x-python",
   "name": "python",
   "nbconvert_exporter": "python",
   "pygments_lexer": "ipython3",
   "version": "3.8.13"
  },
  "orig_nbformat": 4,
  "vscode": {
   "interpreter": {
    "hash": "c3fa239d9ef17f1f084ae9ce703e649c54c4376066d637a1602c4bb48f6869c7"
   }
  }
 },
 "nbformat": 4,
 "nbformat_minor": 2
}
